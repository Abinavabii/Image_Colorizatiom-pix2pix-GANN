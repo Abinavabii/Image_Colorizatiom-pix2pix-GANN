{
  "cells": [
    {
      "cell_type": "markdown",
      "source": [
        "# **Model Architecture**\n",
        "defining functions to create the generator and discriminator models for a Generative Adversarial Network (GAN). These models are used for image colorization."
      ],
      "metadata": {
        "id": "77FtwwehSp0O"
      }
    },
    {
      "cell_type": "code",
      "execution_count": null,
      "metadata": {
        "id": "PBB25Kf2JUVW"
      },
      "outputs": [],
      "source": [
        "def d_block(x_in, fltr, strd, pad, bn, inorm):\n",
        "    x = Conv2D(fltr, (4, 4),\n",
        "               strides=strd,\n",
        "               padding=pad,\n",
        "               use_bias=False,\n",
        "               kernel_initializer=init)(x_in)\n",
        "\n",
        "    if bn:\n",
        "        x = BatchNormalization()(x)\n",
        "    if inorm:\n",
        "        x = InstanceNormalization()(x)\n",
        "    x = LeakyReLU(0.2)(x)\n",
        "    return x\n",
        "\n",
        "def u_block(x, skip, fltr, strd, pad, bn, inorm):\n",
        "    x = Conv2DTranspose(fltr, (4, 4),\n",
        "                        strides=strd,\n",
        "                        padding=pad,\n",
        "                        use_bias=False,\n",
        "                        kernel_initializer=init)(x)\n",
        "\n",
        "    if bn:\n",
        "        x = BatchNormalization()(x)\n",
        "    if inorm:\n",
        "        x = InstanceNormalization()(x)\n",
        "    x = ReLU()(x)\n",
        "    conc_x = Concatenate()([x, skip])\n",
        "\n",
        "    return conc_x\n"
      ]
    },
    {
      "cell_type": "code",
      "execution_count": null,
      "metadata": {
        "id": "fhKV5ObOJbUZ"
      },
      "outputs": [],
      "source": [
        "def create_patchgan(image_shape):\n",
        "    input_gen = Input(shape=image_shape)\n",
        "    input_tar = Input(shape=image_shape)\n",
        "    combined_inputs = Concatenate()([input_gen, input_tar])\n",
        "\n",
        "    x64 = d_block(combined_inputs, 64, 2, 'same', False, False)\n",
        "    x128 = d_block(x64, 128, 2, 'same', False, True)\n",
        "    x256 = d_block(x128, 256, 2, 'same', True, False)\n",
        "\n",
        "    padded_x256 = ZeroPadding2D()(x256)\n",
        "    x512 = d_block(padded_x256, 512, 1, 'valid', True, False)\n",
        "\n",
        "    padded_x512 = ZeroPadding2D()(x512)\n",
        "    x1 = Conv2D(1, (4, 4), strides=1, padding='valid', activation='sigmoid', kernel_initializer=init)(padded_x512)\n",
        "\n",
        "    model = Model(inputs=[input_gen, input_tar], outputs=x1)\n",
        "    return model\n"
      ]
    },
    {
      "cell_type": "code",
      "execution_count": null,
      "metadata": {
        "colab": {
          "base_uri": "https://localhost:8080/"
        },
        "id": "zW99qVCzJeU0",
        "outputId": "7050e76b-13c0-4589-fe7c-6208cb7c6588"
      },
      "outputs": [
        {
          "output_type": "stream",
          "name": "stderr",
          "text": [
            "/usr/local/lib/python3.10/dist-packages/keras/initializers/initializers.py:120: UserWarning: The initializer RandomNormal is unseeded and being called multiple times, which will return identical values each time (even if the initializer is unseeded). Please update your code to provide a seed to the initializer, or avoid using the same initalizer instance more than once.\n",
            "  warnings.warn(\n"
          ]
        },
        {
          "output_type": "stream",
          "name": "stdout",
          "text": [
            "Model: \"model\"\n",
            "__________________________________________________________________________________________________\n",
            " Layer (type)                   Output Shape         Param #     Connected to                     \n",
            "==================================================================================================\n",
            " input_1 (InputLayer)           [(None, 128, 128, 3  0           []                               \n",
            "                                )]                                                                \n",
            "                                                                                                  \n",
            " input_2 (InputLayer)           [(None, 128, 128, 3  0           []                               \n",
            "                                )]                                                                \n",
            "                                                                                                  \n",
            " concatenate (Concatenate)      (None, 128, 128, 6)  0           ['input_1[0][0]',                \n",
            "                                                                  'input_2[0][0]']                \n",
            "                                                                                                  \n",
            " conv2d (Conv2D)                (None, 64, 64, 64)   6144        ['concatenate[0][0]']            \n",
            "                                                                                                  \n",
            " leaky_re_lu (LeakyReLU)        (None, 64, 64, 64)   0           ['conv2d[0][0]']                 \n",
            "                                                                                                  \n",
            " conv2d_1 (Conv2D)              (None, 32, 32, 128)  131072      ['leaky_re_lu[0][0]']            \n",
            "                                                                                                  \n",
            " instance_normalization (Instan  (None, 32, 32, 128)  256        ['conv2d_1[0][0]']               \n",
            " ceNormalization)                                                                                 \n",
            "                                                                                                  \n",
            " leaky_re_lu_1 (LeakyReLU)      (None, 32, 32, 128)  0           ['instance_normalization[0][0]'] \n",
            "                                                                                                  \n",
            " conv2d_2 (Conv2D)              (None, 16, 16, 256)  524288      ['leaky_re_lu_1[0][0]']          \n",
            "                                                                                                  \n",
            " batch_normalization (BatchNorm  (None, 16, 16, 256)  1024       ['conv2d_2[0][0]']               \n",
            " alization)                                                                                       \n",
            "                                                                                                  \n",
            " leaky_re_lu_2 (LeakyReLU)      (None, 16, 16, 256)  0           ['batch_normalization[0][0]']    \n",
            "                                                                                                  \n",
            " zero_padding2d (ZeroPadding2D)  (None, 18, 18, 256)  0          ['leaky_re_lu_2[0][0]']          \n",
            "                                                                                                  \n",
            " conv2d_3 (Conv2D)              (None, 15, 15, 512)  2097152     ['zero_padding2d[0][0]']         \n",
            "                                                                                                  \n",
            " batch_normalization_1 (BatchNo  (None, 15, 15, 512)  2048       ['conv2d_3[0][0]']               \n",
            " rmalization)                                                                                     \n",
            "                                                                                                  \n",
            " leaky_re_lu_3 (LeakyReLU)      (None, 15, 15, 512)  0           ['batch_normalization_1[0][0]']  \n",
            "                                                                                                  \n",
            " zero_padding2d_1 (ZeroPadding2  (None, 17, 17, 512)  0          ['leaky_re_lu_3[0][0]']          \n",
            " D)                                                                                               \n",
            "                                                                                                  \n",
            " conv2d_4 (Conv2D)              (None, 14, 14, 1)    8193        ['zero_padding2d_1[0][0]']       \n",
            "                                                                                                  \n",
            "==================================================================================================\n",
            "Total params: 2,770,177\n",
            "Trainable params: 2,768,641\n",
            "Non-trainable params: 1,536\n",
            "__________________________________________________________________________________________________\n"
          ]
        }
      ],
      "source": [
        "discriminatotr=create_patchgan((128, 128, 3))\n",
        "discriminatotr.summary()"
      ]
    },
    {
      "cell_type": "code",
      "execution_count": null,
      "metadata": {
        "id": "PB9tJfnEJhIq"
      },
      "outputs": [],
      "source": [
        "def create_mod_unet():\n",
        "    input_src = Input(shape=(128, 128, 3))\n",
        "\n",
        "    x64 = d_block(input_src, 64, 2, 'same', False, False)\n",
        "    x128 = d_block(x64, 128, 2, 'same', True, False)\n",
        "    x256 = d_block(x128, 256, 2, 'same', True, False)\n",
        "    x512 = d_block(x256, 512, 2, 'same', True, False)\n",
        "    d512 = d_block(x512, 512, 2, 'same', True, False)\n",
        "    e512 = d_block(d512, 512, 2, 'same', True, False)\n",
        "\n",
        "    f512 = d_block(e512, 512, 2, 'same', True, False)\n",
        "\n",
        "    u512 = u_block(f512, e512, 512, 2, 'same', True, False)\n",
        "    u512 = u_block(u512, d512, 512, 2, 'same', True, False)\n",
        "    u512 = u_block(u512, x512, 512, 2, 'same', True, False)\n",
        "    u256 = u_block(u512, x256, 256, 2, 'same', True, False)\n",
        "    u128 = u_block(u256, x128, 128, 2, 'same', True, False)\n",
        "    u64 = u_block(u128, x64, 64, 2, 'same', False, True)\n",
        "\n",
        "    generated_image = Conv2DTranspose(3, (4, 4), strides=2, padding='same', activation='tanh', kernel_initializer=init)(u64)\n",
        "\n",
        "    model = Model(inputs=input_src, outputs=generated_image)\n",
        "    return model\n"
      ]
    },
    {
      "cell_type": "code",
      "execution_count": null,
      "metadata": {
        "colab": {
          "base_uri": "https://localhost:8080/"
        },
        "id": "PUxpIfA-Jlkz",
        "outputId": "bbc43ea4-1b87-4c81-99ba-4a85315c170f"
      },
      "outputs": [
        {
          "output_type": "stream",
          "name": "stdout",
          "text": [
            "Model: \"model_1\"\n",
            "__________________________________________________________________________________________________\n",
            " Layer (type)                   Output Shape         Param #     Connected to                     \n",
            "==================================================================================================\n",
            " input_3 (InputLayer)           [(None, 128, 128, 3  0           []                               \n",
            "                                )]                                                                \n",
            "                                                                                                  \n",
            " conv2d_5 (Conv2D)              (None, 64, 64, 64)   3072        ['input_3[0][0]']                \n",
            "                                                                                                  \n",
            " leaky_re_lu_4 (LeakyReLU)      (None, 64, 64, 64)   0           ['conv2d_5[0][0]']               \n",
            "                                                                                                  \n",
            " conv2d_6 (Conv2D)              (None, 32, 32, 128)  131072      ['leaky_re_lu_4[0][0]']          \n",
            "                                                                                                  \n",
            " batch_normalization_2 (BatchNo  (None, 32, 32, 128)  512        ['conv2d_6[0][0]']               \n",
            " rmalization)                                                                                     \n",
            "                                                                                                  \n",
            " leaky_re_lu_5 (LeakyReLU)      (None, 32, 32, 128)  0           ['batch_normalization_2[0][0]']  \n",
            "                                                                                                  \n",
            " conv2d_7 (Conv2D)              (None, 16, 16, 256)  524288      ['leaky_re_lu_5[0][0]']          \n",
            "                                                                                                  \n",
            " batch_normalization_3 (BatchNo  (None, 16, 16, 256)  1024       ['conv2d_7[0][0]']               \n",
            " rmalization)                                                                                     \n",
            "                                                                                                  \n",
            " leaky_re_lu_6 (LeakyReLU)      (None, 16, 16, 256)  0           ['batch_normalization_3[0][0]']  \n",
            "                                                                                                  \n",
            " conv2d_8 (Conv2D)              (None, 8, 8, 512)    2097152     ['leaky_re_lu_6[0][0]']          \n",
            "                                                                                                  \n",
            " batch_normalization_4 (BatchNo  (None, 8, 8, 512)   2048        ['conv2d_8[0][0]']               \n",
            " rmalization)                                                                                     \n",
            "                                                                                                  \n",
            " leaky_re_lu_7 (LeakyReLU)      (None, 8, 8, 512)    0           ['batch_normalization_4[0][0]']  \n",
            "                                                                                                  \n",
            " conv2d_9 (Conv2D)              (None, 4, 4, 512)    4194304     ['leaky_re_lu_7[0][0]']          \n",
            "                                                                                                  \n",
            " batch_normalization_5 (BatchNo  (None, 4, 4, 512)   2048        ['conv2d_9[0][0]']               \n",
            " rmalization)                                                                                     \n",
            "                                                                                                  \n",
            " leaky_re_lu_8 (LeakyReLU)      (None, 4, 4, 512)    0           ['batch_normalization_5[0][0]']  \n",
            "                                                                                                  \n",
            " conv2d_10 (Conv2D)             (None, 2, 2, 512)    4194304     ['leaky_re_lu_8[0][0]']          \n",
            "                                                                                                  \n",
            " batch_normalization_6 (BatchNo  (None, 2, 2, 512)   2048        ['conv2d_10[0][0]']              \n",
            " rmalization)                                                                                     \n",
            "                                                                                                  \n",
            " leaky_re_lu_9 (LeakyReLU)      (None, 2, 2, 512)    0           ['batch_normalization_6[0][0]']  \n",
            "                                                                                                  \n",
            " conv2d_transpose (Conv2DTransp  (None, 4, 4, 512)   4194304     ['leaky_re_lu_9[0][0]']          \n",
            " ose)                                                                                             \n",
            "                                                                                                  \n",
            " batch_normalization_7 (BatchNo  (None, 4, 4, 512)   2048        ['conv2d_transpose[0][0]']       \n",
            " rmalization)                                                                                     \n",
            "                                                                                                  \n",
            " re_lu (ReLU)                   (None, 4, 4, 512)    0           ['batch_normalization_7[0][0]']  \n",
            "                                                                                                  \n",
            " concatenate_1 (Concatenate)    (None, 4, 4, 1024)   0           ['re_lu[0][0]',                  \n",
            "                                                                  'leaky_re_lu_8[0][0]']          \n",
            "                                                                                                  \n",
            " conv2d_transpose_1 (Conv2DTran  (None, 8, 8, 512)   8388608     ['concatenate_1[0][0]']          \n",
            " spose)                                                                                           \n",
            "                                                                                                  \n",
            " batch_normalization_8 (BatchNo  (None, 8, 8, 512)   2048        ['conv2d_transpose_1[0][0]']     \n",
            " rmalization)                                                                                     \n",
            "                                                                                                  \n",
            " re_lu_1 (ReLU)                 (None, 8, 8, 512)    0           ['batch_normalization_8[0][0]']  \n",
            "                                                                                                  \n",
            " concatenate_2 (Concatenate)    (None, 8, 8, 1024)   0           ['re_lu_1[0][0]',                \n",
            "                                                                  'leaky_re_lu_7[0][0]']          \n",
            "                                                                                                  \n",
            " conv2d_transpose_2 (Conv2DTran  (None, 16, 16, 512)  8388608    ['concatenate_2[0][0]']          \n",
            " spose)                                                                                           \n",
            "                                                                                                  \n",
            " batch_normalization_9 (BatchNo  (None, 16, 16, 512)  2048       ['conv2d_transpose_2[0][0]']     \n",
            " rmalization)                                                                                     \n",
            "                                                                                                  \n",
            " re_lu_2 (ReLU)                 (None, 16, 16, 512)  0           ['batch_normalization_9[0][0]']  \n",
            "                                                                                                  \n",
            " concatenate_3 (Concatenate)    (None, 16, 16, 768)  0           ['re_lu_2[0][0]',                \n",
            "                                                                  'leaky_re_lu_6[0][0]']          \n",
            "                                                                                                  \n",
            " conv2d_transpose_3 (Conv2DTran  (None, 32, 32, 256)  3145728    ['concatenate_3[0][0]']          \n",
            " spose)                                                                                           \n",
            "                                                                                                  \n",
            " batch_normalization_10 (BatchN  (None, 32, 32, 256)  1024       ['conv2d_transpose_3[0][0]']     \n",
            " ormalization)                                                                                    \n",
            "                                                                                                  \n",
            " re_lu_3 (ReLU)                 (None, 32, 32, 256)  0           ['batch_normalization_10[0][0]'] \n",
            "                                                                                                  \n",
            " concatenate_4 (Concatenate)    (None, 32, 32, 384)  0           ['re_lu_3[0][0]',                \n",
            "                                                                  'leaky_re_lu_5[0][0]']          \n",
            "                                                                                                  \n",
            " conv2d_transpose_4 (Conv2DTran  (None, 64, 64, 128)  786432     ['concatenate_4[0][0]']          \n",
            " spose)                                                                                           \n",
            "                                                                                                  \n",
            " batch_normalization_11 (BatchN  (None, 64, 64, 128)  512        ['conv2d_transpose_4[0][0]']     \n",
            " ormalization)                                                                                    \n",
            "                                                                                                  \n",
            " re_lu_4 (ReLU)                 (None, 64, 64, 128)  0           ['batch_normalization_11[0][0]'] \n",
            "                                                                                                  \n",
            " concatenate_5 (Concatenate)    (None, 64, 64, 192)  0           ['re_lu_4[0][0]',                \n",
            "                                                                  'leaky_re_lu_4[0][0]']          \n",
            "                                                                                                  \n",
            " conv2d_transpose_5 (Conv2DTran  (None, 128, 128, 64  196608     ['concatenate_5[0][0]']          \n",
            " spose)                         )                                                                 \n",
            "                                                                                                  \n",
            " instance_normalization_1 (Inst  (None, 128, 128, 64  128        ['conv2d_transpose_5[0][0]']     \n",
            " anceNormalization)             )                                                                 \n",
            "                                                                                                  \n",
            " re_lu_5 (ReLU)                 (None, 128, 128, 64  0           ['instance_normalization_1[0][0]'\n",
            "                                )                                ]                                \n",
            "                                                                                                  \n",
            " concatenate_6 (Concatenate)    (None, 128, 128, 67  0           ['re_lu_5[0][0]',                \n",
            "                                )                                 'input_3[0][0]']                \n",
            "                                                                                                  \n",
            " conv2d_transpose_6 (Conv2DTran  (None, 256, 256, 3)  3219       ['concatenate_6[0][0]']          \n",
            " spose)                                                                                           \n",
            "                                                                                                  \n",
            "==================================================================================================\n",
            "Total params: 36,263,187\n",
            "Trainable params: 36,255,507\n",
            "Non-trainable params: 7,680\n",
            "__________________________________________________________________________________________________\n"
          ]
        }
      ],
      "source": [
        "generator = create_mod_unet()\n",
        "generator.summary()"
      ]
    },
    {
      "cell_type": "markdown",
      "source": [
        "# **Dataset Preparation**\n",
        " creating TensorFlow Dataset objects from the training and validation data."
      ],
      "metadata": {
        "id": "e5dBsykfS7Ja"
      }
    },
    {
      "cell_type": "code",
      "execution_count": null,
      "metadata": {
        "id": "8jzwq7qeJsIq"
      },
      "outputs": [],
      "source": [
        "train = tf.data.Dataset.from_tensor_slices((X_train, y_train))\n",
        "valid = tf.data.Dataset.from_tensor_slices((X_valid, y_valid))\n",
        "\n",
        "train = train.shuffle(buffer_size=400).batch(batch_size=16)\n",
        "valid = valid.shuffle(buffer_size=400).batch(batch_size=16)"
      ]
    },
    {
      "cell_type": "code",
      "execution_count": null,
      "metadata": {
        "id": "20SygDrSJ2oC"
      },
      "outputs": [],
      "source": [
        "gen_model = create_mod_unet()\n",
        "dis_models = [create_patchgan((128, 128, 3)), create_patchgan((64, 64, 3)), create_patchgan((32, 32, 3))]\n",
        "\n",
        "LAMBDA=100\n",
        "optimizer_params = { \"learning_rate\": 0.0002,\"beta_1\": 0.5,\"beta_2\": 0.999}\n",
        "\n",
        "gen_opt = tf.keras.optimizers.Adam(**optimizer_params)\n",
        "dis_opt_0 = tf.keras.optimizers.Adam(**optimizer_params)\n",
        "dis_opt_1 = tf.keras.optimizers.Adam(**optimizer_params)\n",
        "dis_opt_2 = tf.keras.optimizers.Adam(**optimizer_params)\n",
        "\n",
        "bce_loss = keras.losses.BinaryCrossentropy(from_logits=True)"
      ]
    },
    {
      "cell_type": "markdown",
      "source": [
        "# **Loss Functions**\n",
        "defining custom loss functions for the generator and discriminator."
      ],
      "metadata": {
        "id": "CQYlW65nTIC5"
      }
    },
    {
      "cell_type": "code",
      "execution_count": null,
      "metadata": {
        "id": "qAQGW3amJ-1Q"
      },
      "outputs": [],
      "source": [
        "def gen_loss(dis_gen_out, target_img, gen_img):\n",
        "    adv_loss = bce_loss(tf.ones_like(dis_gen_out), dis_gen_out)\n",
        "    l1_loss = tf.reduce_mean(tf.abs(tf.subtract(target_img, gen_img)))\n",
        "    total_loss = adv_loss + (LAMBDA * l1_loss)\n",
        "    return total_loss, adv_loss, l1_loss\n",
        "\n",
        "def dis_loss(dis_gen_out, dis_target_out):\n",
        "    gen_loss = bce_loss(tf.zeros_like(dis_gen_out), dis_gen_out)\n",
        "    target_loss = bce_loss(tf.ones_like(dis_target_out), dis_target_out)\n",
        "    total_dis_loss = gen_loss + target_loss\n",
        "    return total_dis_loss"
      ]
    }
  ],
  "metadata": {
    "accelerator": "GPU",
    "colab": {
      "provenance": [],
      "gpuType": "T4"
    },
    "kernelspec": {
      "display_name": "Python 3",
      "name": "python3"
    },
    "language_info": {
      "name": "python"
    }
  },
  "nbformat": 4,
  "nbformat_minor": 0
}